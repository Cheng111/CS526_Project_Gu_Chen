{
 "cells": [
  {
   "cell_type": "code",
   "execution_count": 2,
   "metadata": {},
   "outputs": [],
   "source": [
    "import pandas as pd\n",
    "import networkx as nx\n",
    "from pyspark import SparkContext\n",
    "import time\n",
    "import numpy as np\n",
    "import gdown\n",
    "import os"
   ]
  },
  {
   "cell_type": "code",
   "execution_count": 2,
   "metadata": {},
   "outputs": [
    {
     "name": "stdout",
     "output_type": "stream",
     "text": [
      "3.7.6\n",
      "['/global/cscratch1/sd/cchen67/CS526/Project_Gu_Chen', '', '/opt/mods/lib/python3.6/site-packages', '/opt/ovis/lib/python3.6/site-packages', '/global/homes/c/cchen67/OpenEye-toolkits-python3-linux-x64-2019.10.2', '/global/homes/c/cchen67/anaconda3/lib/python37.zip', '/global/homes/c/cchen67/anaconda3/lib/python3.7', '/global/homes/c/cchen67/anaconda3/lib/python3.7/lib-dynload', '/global/homes/c/cchen67/.local/lib/python3.7/site-packages', '/global/homes/c/cchen67/anaconda3/lib/python3.7/site-packages', '/global/homes/c/cchen67/anaconda3/lib/python3.7/site-packages/IPython/extensions', '/global/u1/c/cchen67/.ipython']\n"
     ]
    }
   ],
   "source": [
    "from platform import python_version\n",
    "print(python_version())\n",
    "import sys\n",
    "print(sys.path)"
   ]
  },
  {
   "cell_type": "code",
   "execution_count": 4,
   "metadata": {},
   "outputs": [],
   "source": [
    "fdownload = {\n",
    "\"large.clique\" : \"https://drive.google.com/file/d/1BKjc9we7qCoJ5lFAoY5DCYXxbZIrNG4A/view?usp=sharing\",\n",
    "\"middle.clique\" : \"https://drive.google.com/file/d/1i24rvEufCwibeDh9RzqUEigZHxSv4KcG/view?usp=sharing\",\n",
    "\"small.clique\" : \"https://drive.google.com/file/d/1phbG6V8Mx2Dk30rfAL2gI0xYCZIYhlHc/view?usp=sharing\",\n",
    "\"C14.280.edgelist\": \"https://drive.google.com/file/d/1p7wPv4CxtGJ9y8GQ7kXsNpM89xxwbpPE/view?usp=sharing\",\n",
    "\"C14-280-cliques.clique\": \"https://drive.google.com/file/d/1OZTfCtZpvNXvQjEpWjZjNhCm01eqbBSd/view?usp=sharing\"}"
   ]
  },
  {
   "cell_type": "code",
   "execution_count": 4,
   "metadata": {},
   "outputs": [
    {
     "name": "stderr",
     "output_type": "stream",
     "text": [
      "Downloading...\n",
      "From: https://drive.google.com/uc?id=1BKjc9we7qCoJ5lFAoY5DCYXxbZIrNG4A\n",
      "To: /global/cscratch1/sd/cchen67/CS526/Project_Gu_Chen/large.clique\n",
      "100%|██████████| 42.0M/42.0M [00:03<00:00, 11.5MB/s]\n",
      "Downloading...\n",
      "From: https://drive.google.com/uc?id=1i24rvEufCwibeDh9RzqUEigZHxSv4KcG\n",
      "To: /global/cscratch1/sd/cchen67/CS526/Project_Gu_Chen/middle.clique\n",
      "100%|██████████| 20.8M/20.8M [00:03<00:00, 5.96MB/s]\n",
      "Downloading...\n",
      "From: https://drive.google.com/uc?id=1phbG6V8Mx2Dk30rfAL2gI0xYCZIYhlHc\n",
      "To: /global/cscratch1/sd/cchen67/CS526/Project_Gu_Chen/small.clique\n",
      "100%|██████████| 21.4M/21.4M [00:01<00:00, 12.1MB/s]\n",
      "Downloading...\n",
      "From: https://drive.google.com/uc?id=1p7wPv4CxtGJ9y8GQ7kXsNpM89xxwbpPE\n",
      "To: /global/cscratch1/sd/cchen67/CS526/Project_Gu_Chen/C14.280.edgelist\n",
      "100%|██████████| 38.6M/38.6M [00:02<00:00, 13.0MB/s]\n",
      "Downloading...\n",
      "From: https://drive.google.com/uc?id=1OZTfCtZpvNXvQjEpWjZjNhCm01eqbBSd\n",
      "To: /global/cscratch1/sd/cchen67/CS526/Project_Gu_Chen/C14-280-cliques.clique\n",
      "100%|██████████| 84.2M/84.2M [00:03<00:00, 23.7MB/s]\n"
     ]
    }
   ],
   "source": [
    "for output, url in fdownload.items():\n",
    "    gdown.download(url, output, quiet=False, fuzzy=True)"
   ]
  },
  {
   "cell_type": "code",
   "execution_count": 5,
   "metadata": {},
   "outputs": [],
   "source": [
    "graphfile = \"C14.280.edgelist\"\n",
    "graph = pd.read_csv(graphfile, header = None)\n",
    "graph = graph.iloc[1: , :]\n",
    "graph = graph[0].str.split(expand=True)\n",
    "graph = nx.from_pandas_edgelist(graph, source = 0, target = 1)"
   ]
  },
  {
   "cell_type": "code",
   "execution_count": 6,
   "metadata": {},
   "outputs": [],
   "source": [
    "inputfile = \"C14-280-cliques.clique\"\n",
    "cliques = pd.read_csv(inputfile, header = None, names = [\"cliques\"])\n",
    "cliques.reset_index(drop = False, inplace = True)"
   ]
  },
  {
   "cell_type": "code",
   "execution_count": 7,
   "metadata": {},
   "outputs": [],
   "source": [
    "cliques[\"len\"] = cliques[\"cliques\"].apply(lambda x : len(x.strip().split(\"\\t\")))"
   ]
  },
  {
   "cell_type": "code",
   "execution_count": 8,
   "metadata": {},
   "outputs": [
    {
     "name": "stdout",
     "output_type": "stream",
     "text": [
      "62882\n",
      "17707\n",
      "9222\n"
     ]
    }
   ],
   "source": [
    "print(len(cliques.loc[cliques[\"len\"] < 100, \"cliques\"]))\n",
    "print(len(cliques.loc[(cliques[\"len\"] >= 100) & (cliques[\"len\"] < 250), \"cliques\"]))\n",
    "print(len(cliques.loc[cliques[\"len\"] >= 250, \"cliques\"]))"
   ]
  },
  {
   "cell_type": "code",
   "execution_count": 9,
   "metadata": {},
   "outputs": [],
   "source": [
    "cliques.loc[cliques[\"len\"] < 100, \"cliques\"].to_csv(\"small.clique\", index = False, header = False)\n",
    "cliques.loc[(cliques[\"len\"] >= 100) & (cliques[\"len\"] < 250), \"cliques\"].to_csv(\"middle.clique\", index = False, header = False)\n",
    "cliques.loc[cliques[\"len\"] >= 250, \"cliques\"].to_csv(\"large.clique\", index = False, header = False)"
   ]
  },
  {
   "cell_type": "markdown",
   "metadata": {},
   "source": [
    "### Distribution of clique size"
   ]
  },
  {
   "cell_type": "code",
   "execution_count": 10,
   "metadata": {},
   "outputs": [
    {
     "data": {
      "text/plain": [
       "[]"
      ]
     },
     "execution_count": 10,
     "metadata": {},
     "output_type": "execute_result"
    },
    {
     "data": {
      "image/png": "[encoded data removed]",
      "text/plain": [
       "<Figure size 432x288 with 1 Axes>"
      ]
     },
     "metadata": {
      "needs_background": "light"
     },
     "output_type": "display_data"
    }
   ],
   "source": [
    "hist = cliques[\"len\"].hist(bins = 50)\n",
    "hist.set_xlabel(\"nodes number\")\n",
    "hist.set_ylabel(\"count\")\n",
    "hist.plot()"
   ]
  },
  {
   "cell_type": "markdown",
   "metadata": {},
   "source": [
    "###  WithoutMR\n",
    "sequentially apply Para-clique on each clique"
   ]
  },
  {
   "cell_type": "code",
   "execution_count": 11,
   "metadata": {},
   "outputs": [],
   "source": [
    "def para_clique_NMR(clique, sep, G, glom):\n",
    "    \"\"\"\n",
    "    Input clique: one clique\n",
    "          sep: sepration in clique list, in our case, sep = '\\t'\n",
    "          G: edgelist\n",
    "          glom: parameter to limit para-clique\n",
    "    Output res_edges: imputed edges list of clique\n",
    "    \"\"\"\n",
    "    # seperate clique list into list of clique nodes\n",
    "    cnodes = set(clique.strip().split(sep))\n",
    "    len_cnodes = len(cnodes)\n",
    "    neibors = {}\n",
    "    # find neighbors (neighbors that are connect to clique nodes)\n",
    "    for cnode in cnodes:\n",
    "        cnode_neibors = set(G.neighbors(cnode)) - cnodes\n",
    "        for cneibor in cnode_neibors:\n",
    "            if cneibor not in neibors.keys():\n",
    "                neibors[cneibor] = 0\n",
    "            neibors[cneibor] = neibors[cneibor] + 1\n",
    "    \n",
    "    # filter out the neighbors (those lose larger than glom connections)\n",
    "    neibors = dict(filter(lambda x: x[1] + glom >= len_cnodes, neibors.items()))\n",
    "    res_edges = []\n",
    "    # find the impute nodes for neighbors \n",
    "    for impute_node, glom_num in neibors.items():\n",
    "        impute_clique_nodes = cnodes - set(G.neighbors(impute_node))\n",
    "        for clique_node in impute_clique_nodes:\n",
    "            res_edges.append((impute_node, clique_node))\n",
    "    return res_edges\n",
    "\n",
    "\n",
    "def paraclique1(cliques, sep, graph, glom):\n",
    "    impute_edge = []\n",
    "    cliques[\"res\"] = cliques[\"cliques\"].apply(para_clique_NMR, args = (sep, graph, glom))\n",
    "    for i in cliques.index:\n",
    "        impute_edge.extend(cliques.loc[i, \"res\"])\n",
    "    return impute_edge"
   ]
  },
  {
   "cell_type": "markdown",
   "metadata": {},
   "source": [
    "###  ForMR\n",
    "ForMR: applied for loop and MapReduce to parallel compute the clique set, and the process of each individual clique is the same with WithoutMR"
   ]
  },
  {
   "cell_type": "code",
   "execution_count": 12,
   "metadata": {},
   "outputs": [],
   "source": [
    "def para_clique_FMR(clique, sep, G, glom):\n",
    "    \"\"\"\n",
    "    The same code with para_clique_NMR\n",
    "    Input clique: one clique\n",
    "          sep: sepration in clique list, in our case, sep = '\\t'\n",
    "          G: edgelist\n",
    "          glom: parameter to limit para-clique\n",
    "    Output res_edges: imputed edges list of clique\n",
    "    \"\"\"\n",
    "    cnodes = set(clique.strip().split(sep))\n",
    "    len_cnodes = len(cnodes)\n",
    "    neibors = {}\n",
    "    neibors_source = {}\n",
    "    # find all the neibors for all the nodes in the clique\n",
    "    for cnode in cnodes:\n",
    "        cnode_neibors = set(G.neighbors(cnode))\n",
    "        cnode_neibors = cnode_neibors - cnodes\n",
    "        for cneibor in cnode_neibors:\n",
    "            if cneibor not in neibors.keys():\n",
    "                neibors[cneibor] = 0\n",
    "                neibors_source[cneibor] = set([])\n",
    "            neibors[cneibor] = neibors[cneibor] + 1\n",
    "            neibors_source[cneibor].add(cnode)\n",
    "    res = []\n",
    "    for node, num in neibors.items():\n",
    "        if num + glom >= len_cnodes:\n",
    "            res.append( (node, len_cnodes - num) )\n",
    "    #res_edges = set([])\n",
    "    res_edges = []\n",
    "    for impute_node, glom_num in res:\n",
    "        impute_clique_nodes = cnodes - neibors_source[impute_node]\n",
    "        for clique_node in impute_clique_nodes:\n",
    "            res_edges.append((impute_node, clique_node))\n",
    "    return res_edges\n",
    "\n",
    "\n",
    "def paraclique2(sc, cliques, sep, graph, glom):\n",
    "    cliques = sc.parallelize(cliques.values)\n",
    "    impute_edges = cliques.flatMap(lambda x: para_clique_FMR(x[0], sep, graph, glom))\n",
    "    impute_edges = impute_edges.collect()\n",
    "    return impute_edges"
   ]
  },
  {
   "cell_type": "markdown",
   "metadata": {},
   "source": [
    "### MR: \n",
    "transform cliques rdd to clique nodes rdd and applying Para-clique on every single nodes parallel."
   ]
  },
  {
   "cell_type": "code",
   "execution_count": 13,
   "metadata": {},
   "outputs": [],
   "source": [
    "def cliques_tonode(clique, sep):\n",
    "    ID = [clique[0]] * len(clique[1])\n",
    "    return list(zip(ID, clique[1]))\n",
    "def process_node(clique_id, cnode, cnodes, G):\n",
    "    cnode_neibors = set(G.neighbors(cnode))\n",
    "    cnode_neibors = cnode_neibors - cnodes\n",
    "    neibors = []\n",
    "    for cneibor in cnode_neibors:\n",
    "        neibors.append(((clique_id, cneibor), 1))\n",
    "    return neibors\n",
    "def add(x, y):\n",
    "    return x + y\n",
    "def process_neibor(cnodes, cneibor, G):\n",
    "    miss_nodes = cnodes - set(G.neighbors(cneibor))\n",
    "    neibors = [cneibor] * len(miss_nodes)\n",
    "    return list(zip(miss_nodes, neibors))\n",
    "def process_df(sc, df, sep, glom, G):\n",
    "    \"\"\"\n",
    "    The same code with para_clique_NMR\n",
    "    Input sc: SparkContext\n",
    "          df: all cliques\n",
    "          sep: sepration in clique list, in our case, sep = '\\t'\n",
    "          glom: parameter to limit para-clique\n",
    "          G: edgelist\n",
    "    Output res_edges: imputed edges list of clique\n",
    "    \"\"\"\n",
    "    rdd =  sc.parallelize(df.values)\n",
    "    rdd = rdd.map(lambda x : (x[0], set(x[1].strip().split(sep))))\n",
    "    rddmap = rdd.collectAsMap()\n",
    "    #[(ID, clique_node)]\n",
    "    rdd = rdd.flatMap(lambda x : cliques_tonode(x, sep))\n",
    "    #[((ID, cneibor), 1)]\n",
    "    rdd = rdd.flatMap(lambda x : process_node(x[0], x[1], rddmap[x[0]], G))\n",
    "    cneibor_count = rdd.reduceByKey(add)\n",
    "    #[(ID, cneibor, miss_count)]\n",
    "    cneibor_count = cneibor_count.map(lambda x : (x[0][0], x[0][1], len(rddmap[x[0][0]]) - x[1]))\n",
    "    cneibor_count = cneibor_count.filter(lambda x: x[2] <= glom)\n",
    "    impute_edges = cneibor_count.flatMap(lambda x : process_neibor(rddmap[x[0]], x[1], G))\n",
    "    return impute_edges.collect()\n",
    "\n",
    "\n",
    "def paraclique3(sc, cliques, sep, graph, glom):\n",
    "    cliques.reset_index(drop = False, inplace = True)\n",
    "    impute_edges = process_df(sc, cliques, sep, glom, graph)\n",
    "    return impute_edges"
   ]
  },
  {
   "cell_type": "code",
   "execution_count": 14,
   "metadata": {},
   "outputs": [],
   "source": [
    "smallclique = \"small.clique\"\n",
    "middleclique = \"middle.clique\"\n",
    "largeclique = \"large.clique\""
   ]
  },
  {
   "cell_type": "code",
   "execution_count": 15,
   "metadata": {},
   "outputs": [],
   "source": [
    "sc = SparkContext.getOrCreate()"
   ]
  },
  {
   "cell_type": "markdown",
   "metadata": {},
   "source": [
    "### Initial setting\n",
    "* glom:  is a parameter that limit the Para-clique. Para-clique is at most not connect to clique with glom nodes.\n",
    "* samplesize: the number of cliques in each sample dataset\n",
    "* samplenum: number of sample dataset we run, for our results, we have ran 10 sample datasets for each job.\n",
    "* inputfile: can be smallclique, middleclique and largeclique"
   ]
  },
  {
   "cell_type": "code",
   "execution_count": 16,
   "metadata": {},
   "outputs": [],
   "source": [
    "sep = \"\\t\"\n",
    "glom = 1\n",
    "samplesize = 5\n",
    "samplenum = 1\n",
    "inputfile = smallclique\n",
    "runtime = pd.DataFrame(columns = [\"WithoutMR\", \"ForMR\", \"MR\"])\n",
    "cliquesdata = pd.read_csv(inputfile, header = None, names = [\"cliques\"])"
   ]
  },
  {
   "cell_type": "code",
   "execution_count": null,
   "metadata": {},
   "outputs": [
    {
     "name": "stdout",
     "output_type": "stream",
     "text": [
      "1096\n"
     ]
    }
   ],
   "source": [
    "for i in range(samplenum):\n",
    "    cliques = cliquesdata.sample(samplesize)\n",
    "   \n",
    "    start = time.time()\n",
    "    res1 = paraclique1(cliques, sep, graph, glom)\n",
    "    end = time.time()\n",
    "    #pd.DataFrame(res1).to_csv(inputfile.split('.')[0] + \".res1\", index = False, header = False)\n",
    "    WithoutMR = end - start\n",
    "    print(len(res1))\n",
    "    start = time.time()\n",
    "    res2 = paraclique2(sc, cliques, sep, graph, glom)\n",
    "    end = time.time()\n",
    "    print(len(res2))\n",
    "    #pd.DataFrame(res2).to_csv(inputfile.split('.')[0] + \".res2\", index = False, header = False)\n",
    "    ForMR = end - start\n",
    "    start = time.time()\n",
    "    res3 = paraclique3(sc, cliques, sep, graph, glom)\n",
    "    end = time.time()\n",
    "    print(len(res3))\n",
    "    #pd.DataFrame(res3).to_csv(inputfile.split('.')[0] + \".res3\", index = False, header = False)\n",
    "    MR = end - start\n",
    "    tmp = pd.DataFrame([[WithoutMR, ForMR, MR]], columns = [\"WithoutMR\", \"ForMR\", \"MR\"])\n",
    "    runtime = pd.concat([runtime, tmp])\n",
    "# runtime.to_csv(inputfile.split('.')[0] + str(samplesize) + \"-\" + str(samplenum) + \".time\", index = False)"
   ]
  },
  {
   "cell_type": "code",
   "execution_count": null,
   "metadata": {},
   "outputs": [],
   "source": [
    "runtime"
   ]
  },
  {
   "cell_type": "code",
   "execution_count": 5,
   "metadata": {},
   "outputs": [],
   "source": [
    "for output in fdownload.keys():\n",
    "    os.system(\"rm \" + output)"
   ]
  },
  {
   "cell_type": "markdown",
   "metadata": {},
   "source": [
    "#### We can see that the length of each results are the same, we can say that all three algorithms works. And the runtime is shown above. For more running time results, please check time\\time_resluts_plot.ipynb which contains visualization of the time tables."
   ]
  },
  {
   "cell_type": "code",
   "execution_count": null,
   "metadata": {},
   "outputs": [],
   "source": []
  }
 ],
 "metadata": {
  "kernelspec": {
   "display_name": "NERSC Python",
   "language": "python",
   "name": "python3"
  },
  "language_info": {
   "codemirror_mode": {
    "name": "ipython",
    "version": 3
   },
   "file_extension": ".py",
   "mimetype": "text/x-python",
   "name": "python",
   "nbconvert_exporter": "python",
   "pygments_lexer": "ipython3",
   "version": "3.7.6"
  }
 },
 "nbformat": 4,
 "nbformat_minor": 4
}
